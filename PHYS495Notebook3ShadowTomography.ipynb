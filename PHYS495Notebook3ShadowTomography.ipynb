{
 "cells": [
  {
   "cell_type": "code",
   "execution_count": 25,
   "id": "6196cb44-5f4c-4a4c-aff9-d39252d1da13",
   "metadata": {},
   "outputs": [],
   "source": [
    "import qiskit\n",
    "import qiskit_aer\n",
    "import numpy\n",
    "import matplotlib.pyplot as plt\n",
    "import time\n",
    "from qiskit import Aer, execute, QuantumCircuit, transpile\n",
    "from qiskit.visualization import plot_histogram, plot_state_city\n",
    "from qiskit.quantum_info import Statevector, DensityMatrix, entropy\n",
    "from qiskit.circuit.random import random_circuit\n",
    "import warnings\n",
    "import pickle\n",
    "import pandas as pd\n",
    "warnings.filterwarnings('ignore', category=DeprecationWarning)"
   ]
  },
  {
   "cell_type": "markdown",
   "id": "8205c009-eeae-4da4-b5b4-d540d3fa21fd",
   "metadata": {},
   "source": [
    "# Creating Random Circuits of a Specific Size"
   ]
  },
  {
   "cell_type": "code",
   "execution_count": 13,
   "id": "ba5d4624-8eb4-421d-a024-70a6d949a80c",
   "metadata": {},
   "outputs": [],
   "source": [
    "import random\n",
    "def fully_random_sized_circuit(num_qubits, width, draw=False) : \n",
    "    single_gates = [\n",
    "    lambda qc, qubit: qc.h(qubit),\n",
    "    lambda qc, qubit: qc.s(qubit),\n",
    "    lambda qc, qubit: qc.sdg(qubit),\n",
    "    lambda qc, qubit: qc.t(qubit),\n",
    "    lambda qc, qubit: qc.tdg(qubit),\n",
    "    lambda qc, qubit: qc.rx(3.14, qubit),\n",
    "    lambda qc, qubit: qc.ry(3.14, qubit),\n",
    "    lambda qc, qubit: qc.rz(3.14, qubit),\n",
    "    lambda qc, qubit: qc.p(3.14, qubit),\n",
    "    lambda qc, qubit: qc.sx(qubit),\n",
    "    lambda qc, qubit: qc.i(qubit) ]\n",
    "    multi_gates = [\n",
    "    lambda qc, qubit: qc.cx(qubit, qubit+1),\n",
    "    lambda qc, qubit: qc.cy(qubit, qubit+1),\n",
    "    lambda qc, qubit: qc.cz(qubit, qubit+1),\n",
    "    lambda qc, qubit: qc.swap(qubit, qubit+1),\n",
    "    lambda qc, qubit: qc.crx(3.14, qubit, qubit+1),\n",
    "    lambda qc, qubit: qc.cry(3.14, qubit, qubit+1),\n",
    "    lambda qc, qubit: qc.crz(3.14, qubit, qubit+1),\n",
    "    lambda qc, qubit: qc.rxx(3.14, qubit, qubit+1) ]\n",
    "    qc = qiskit.QuantumCircuit(num_qubits, num_qubits, global_phase=0)\n",
    "    r1=0\n",
    "    r2=0\n",
    "    r3=0\n",
    "    for k in range(width) :\n",
    "        for i in range(num_qubits) :\n",
    "            rs = random.randint(0,10)\n",
    "            rm = random.randint(0,7)\n",
    "            if( i == num_qubits-1) :\n",
    "                single_gates[rs](qc, i)\n",
    "            else :\n",
    "                coin = random.randint(0,1)\n",
    "                if(coin == 1) :\n",
    "                    single_gates[rs](qc,i)\n",
    "                else :\n",
    "                    multi_gates[rm](qc,i)\n",
    "    return qc"
   ]
  },
  {
   "cell_type": "code",
   "execution_count": 14,
   "id": "93c3e32b-11ac-4613-9624-24f3ed709276",
   "metadata": {},
   "outputs": [],
   "source": [
    "def create_periodic_random(num_qubits, period, layers, draw=False) :\n",
    "    single_gates = [\n",
    "    lambda qc, qubit: qc.h(qubit),\n",
    "    lambda qc, qubit: qc.s(qubit),\n",
    "    lambda qc, qubit: qc.sdg(qubit),\n",
    "    lambda qc, qubit: qc.t(qubit),\n",
    "    lambda qc, qubit: qc.tdg(qubit),\n",
    "    lambda qc, qubit: qc.rx(3.14, qubit),\n",
    "    lambda qc, qubit: qc.ry(3.14, qubit),\n",
    "    lambda qc, qubit: qc.rz(3.14, qubit),\n",
    "    lambda qc, qubit: qc.p(3.14, qubit),\n",
    "    lambda qc, qubit: qc.sx(qubit),\n",
    "    lambda qc, qubit: qc.i(qubit) ]\n",
    "    multi_gates = [\n",
    "    lambda qc, qubit: qc.cx(qubit, qubit+1),\n",
    "    lambda qc, qubit: qc.cy(qubit, qubit+1),\n",
    "    lambda qc, qubit: qc.cz(qubit, qubit+1),\n",
    "    lambda qc, qubit: qc.swap(qubit, qubit+1),\n",
    "    lambda qc, qubit: qc.crx(3.14, qubit, qubit+1),\n",
    "    lambda qc, qubit: qc.cry(3.14, qubit, qubit+1),\n",
    "    lambda qc, qubit: qc.crz(3.14, qubit, qubit+1),\n",
    "    lambda qc, qubit: qc.rxx(3.14, qubit, qubit+1) ]\n",
    "    qc = QuantumCircuit(num_qubits, num_qubits)\n",
    "    r1=0\n",
    "    r2=0\n",
    "    r3=0\n",
    "    for l in range(layers) :\n",
    "        for k in range(period) :\n",
    "            for i in range(num_qubits) :\n",
    "                rs = random.randint(0,10)\n",
    "                single_gates[rs](qc, i)\n",
    "    return qc"
   ]
  },
  {
   "cell_type": "markdown",
   "id": "f5378d1a-7f35-4774-9265-11aa1c09a466",
   "metadata": {},
   "source": [
    "# Calculate the Shannon Entropy"
   ]
  },
  {
   "cell_type": "code",
   "execution_count": 15,
   "id": "3650eca5-fe41-4627-92b7-a6256eaec0ea",
   "metadata": {},
   "outputs": [],
   "source": [
    "def calculate_shannon_entropy(qc, num, draw=False) :\n",
    "    backend = qiskit_aer.Aer.get_backend('statevector_simulator')\n",
    "    new_qc = transpile(qc, backend=backend)\n",
    "    job = backend.run(new_qc, shots = 1024)\n",
    "    result = job.result()\n",
    "    outputstate = result.get_statevector()\n",
    "    probs = Statevector(outputstate).probabilities()\n",
    "    shan = shentropy(probs, base=2)\n",
    "    \n",
    "    if draw :\n",
    "        display(qiskit.visualization.plot_state_city(outputstate))\n",
    "        display(qc.draw(style='iqp'))\n",
    "\n",
    "    return shan\n",
    "\n",
    "def shentropy(pvec, base) :\n",
    "    if base == 2:\n",
    "\n",
    "        def logfn(x):\n",
    "            return -x * numpy.log2(x)\n",
    "    elif base == np.e:\n",
    "\n",
    "        def logfn(x):\n",
    "            return -x * numpy.log(x)\n",
    "    else:\n",
    "\n",
    "        def logfn(x):\n",
    "            return -x * numpy.log(x) / numpy.log(base)\n",
    "\n",
    "    h = 0.\n",
    "    for x in pvec:\n",
    "        if 0 < x < 1:\n",
    "            h += logfn(x)\n",
    "    return h"
   ]
  },
  {
   "cell_type": "markdown",
   "id": "36a64723-af01-4737-ae12-57b7b9f4ea36",
   "metadata": {},
   "source": [
    "# Shadow Tomography of a Given Random Circuit for Varying Depths\n",
    "\n",
    "Below is code that runs shadow tomography on a given circuit (and varies its depth). It plots Shannon entropy against depth and shows what 1 layer of the circuit looks like."
   ]
  },
  {
   "cell_type": "code",
   "execution_count": 16,
   "id": "d40156de-c7ea-45bc-be76-7e75ae781e22",
   "metadata": {},
   "outputs": [],
   "source": [
    "import random\n",
    "\n",
    "def run_shadow(num_qubits, num_trials, layers, draw=False) : \n",
    "    qc = create_periodic_random(num_qubits, num_qubits, layers)\n",
    "    outliers = []\n",
    "    if(draw) :\n",
    "        display(qc.draw())\n",
    "    results = []\n",
    "    bases = ''\n",
    "    for i in range(num_trials) :\n",
    "        temp = qc.copy()\n",
    "        for qubit in range(num_qubits) :\n",
    "            basis = random.choice(['x', 'y', 'z'])\n",
    "            bases += basis\n",
    "            if basis == 'x' :\n",
    "                temp.h(qubit)\n",
    "            elif basis == 'y' :\n",
    "                temp.sdg(qubit)\n",
    "                temp.h(qubit)\n",
    "        entropy = calculate_shannon_entropy(temp, num_qubits, False)\n",
    "        entropy = entropy/num_qubits\n",
    "        if entropy <= 0.1 :\n",
    "            outliers.append((bases, layers*num_qubits+num_qubits, entropy))\n",
    "        results.append((bases, entropy))\n",
    "        temp.clear()\n",
    "        bases = ''\n",
    "    return results, outliers\n",
    "                    "
   ]
  },
  {
   "cell_type": "code",
   "execution_count": 27,
   "id": "9d331f00-9a46-48b0-bd7f-908af2c33839",
   "metadata": {},
   "outputs": [
    {
     "data": {
      "text/html": [
       "<pre style=\"word-wrap: normal;white-space: pre;background: #fff0;line-height: 1.1;font-family: &quot;Courier New&quot;,Courier,monospace\">     ┌──────────┐┌──────────┐ ┌───┐ ┌───┐\n",
       "q_0: ┤ Ry(3.14) ├┤ Rx(3.14) ├─┤ I ├─┤ I ├\n",
       "     └─┬─────┬──┘├──────────┤ ├───┤ ├───┤\n",
       "q_1: ──┤ Tdg ├───┤ Ry(3.14) ├─┤ H ├─┤ S ├\n",
       "     ┌─┴─────┴──┐└──┬───┬───┘ ├───┤ ├───┤\n",
       "q_2: ┤ Rz(3.14) ├───┤ T ├─────┤ T ├─┤ I ├\n",
       "     ├──────────┤┌──┴───┴───┐┌┴───┴┐├───┤\n",
       "q_3: ┤ Rz(3.14) ├┤ Rz(3.14) ├┤ Sdg ├┤ I ├\n",
       "     └──────────┘└──────────┘└─────┘└───┘\n",
       "c: 4/════════════════════════════════════\n",
       "                                         </pre>"
      ],
      "text/plain": [
       "     ┌──────────┐┌──────────┐ ┌───┐ ┌───┐\n",
       "q_0: ┤ Ry(3.14) ├┤ Rx(3.14) ├─┤ I ├─┤ I ├\n",
       "     └─┬─────┬──┘├──────────┤ ├───┤ ├───┤\n",
       "q_1: ──┤ Tdg ├───┤ Ry(3.14) ├─┤ H ├─┤ S ├\n",
       "     ┌─┴─────┴──┐└──┬───┬───┘ ├───┤ ├───┤\n",
       "q_2: ┤ Rz(3.14) ├───┤ T ├─────┤ T ├─┤ I ├\n",
       "     ├──────────┤┌──┴───┴───┐┌┴───┴┐├───┤\n",
       "q_3: ┤ Rz(3.14) ├┤ Rz(3.14) ├┤ Sdg ├┤ I ├\n",
       "     └──────────┘└──────────┘└─────┘└───┘\n",
       "c: 4/════════════════════════════════════\n",
       "                                         "
      ]
     },
     "metadata": {},
     "output_type": "display_data"
    }
   ],
   "source": [
    "collection = []\n",
    "for i in range(20) :\n",
    "    if i == 1 :\n",
    "        results, outliers = run_shadow(4, 100, i, True)\n",
    "    else :\n",
    "        results, outliers = run_shadow(4,100,i, False)\n",
    "    for _, entropy in results:\n",
    "        collection.append((i*4 +4, entropy))\n",
    "\n",
    "with open('shadow_tomography_results_arr.pkl', 'wb') as file:\n",
    "    pickle.dump(collection, file)\n"
   ]
  },
  {
   "cell_type": "code",
   "execution_count": 28,
   "id": "8e2934aa-a553-4632-83a0-e554fcfca26c",
   "metadata": {},
   "outputs": [
    {
     "data": {
      "image/png": "[encoded data removed]",
      "text/plain": [
       "<Figure size 640x480 with 1 Axes>"
      ]
     },
     "metadata": {},
     "output_type": "display_data"
    }
   ],
   "source": [
    "arr = []\n",
    "\n",
    "with open('shadow_tomography_results_arr.pkl', 'rb') as file:\n",
    "    arr = pickle.load(file)\n",
    "\n",
    "df = pd.DataFrame(arr, columns=['Depth', 'Entropy'])\n",
    "grouped_data = df.groupby('Depth')['Entropy'].apply(list).reset_index(name='Entropies')\n",
    "data_to_plot = [row['Entropies'] for index, row in grouped_data.iterrows()]\n",
    "fig, ax = plt.subplots()\n",
    "ax.boxplot(data_to_plot)\n",
    "ax.set_xticklabels(grouped_data['Depth'].astype(str))\n",
    "ax.set_title('Shannon Entropy Distribution for a 4 Qubit Random Circuit Measured in Different Bases')\n",
    "ax.set_xlabel('Depth')\n",
    "ax.set_ylabel('Entropy')\n",
    "plt.show()"
   ]
  },
  {
   "cell_type": "markdown",
   "id": "0a191ec8-cd91-4cbc-8ed7-2ace7095ec95",
   "metadata": {},
   "source": [
    "**Interpretation:** This plot shows that the Shannon entropy, on average, does not fluctuate too much and stays pretty consistenly in the range 0.6-0.8 for circuits of all depths."
   ]
  }
 ],
 "metadata": {
  "kernelspec": {
   "display_name": "Python 3 (ipykernel)",
   "language": "python",
   "name": "python3"
  },
  "language_info": {
   "codemirror_mode": {
    "name": "ipython",
    "version": 3
   },
   "file_extension": ".py",
   "mimetype": "text/x-python",
   "name": "python",
   "nbconvert_exporter": "python",
   "pygments_lexer": "ipython3",
   "version": "3.11.8"
  }
 },
 "nbformat": 4,
 "nbformat_minor": 5
}
